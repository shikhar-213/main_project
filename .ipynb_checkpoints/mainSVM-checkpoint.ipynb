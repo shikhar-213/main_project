{
 "cells": [
  {
   "cell_type": "code",
   "execution_count": 2,
   "id": "00544925-832f-4261-b954-79463d5d6f0d",
   "metadata": {},
   "outputs": [],
   "source": [
    "import os\n",
    "import numpy as np\n",
    "import matplotlib.pyplot as plt\n",
    "import seaborn as sns\n",
    "from sklearn.model_selection import StratifiedShuffleSplit\n",
    "from sklearn.metrics import classification_report, confusion_matrix, accuracy_score\n",
    "from sklearn.svm import SVC\n",
    "from sklearn.preprocessing import StandardScaler\n",
    "import torchvision.transforms as transforms\n",
    "import torchvision.datasets as datasets\n",
    "from torch.utils.data import DataLoader, Subset\n",
    "import torch\n",
    "from joblib import dump, load"
   ]
  },
  {
   "cell_type": "code",
   "execution_count": 3,
   "id": "fede13d9-1b17-46e6-a2f9-7a0669ebc403",
   "metadata": {},
   "outputs": [
    {
     "name": "stdout",
     "output_type": "stream",
     "text": [
      "Using device: cpu\n"
     ]
    }
   ],
   "source": [
    "# Set device (mainly for data loading)\n",
    "device = torch.device(\"cuda\" if torch.cuda.is_available() else \"cpu\")\n",
    "print(f\"Using device: {device}\")"
   ]
  },
  {
   "cell_type": "code",
   "execution_count": 4,
   "id": "e1a7b572-27a8-4afc-ad8f-f16c356cffa1",
   "metadata": {},
   "outputs": [],
   "source": [
    "# Dataset path\n",
    "data_path = \"PlantVillage\"\n",
    "\n",
    "# Define transforms for data preprocessing\n",
    "transform = transforms.Compose([\n",
    "    transforms.Resize((128, 128)),\n",
    "    transforms.ToTensor(),\n",
    "    transforms.Normalize((0.5,), (0.5,))\n",
    "])"
   ]
  },
  {
   "cell_type": "code",
   "execution_count": 5,
   "id": "03b52fdf-2809-4402-ae88-c0867e7bdb3c",
   "metadata": {},
   "outputs": [],
   "source": [
    "# Load dataset\n",
    "dataset = datasets.ImageFolder(root=data_path, transform=transform)\n",
    "\n",
    "# Extract labels for stratified splitting\n",
    "labels = np.array([label for _, label in dataset.samples])\n",
    "\n",
    "# Use StratifiedShuffleSplit to maintain class distribution\n",
    "splitter = StratifiedShuffleSplit(n_splits=1, test_size=0.2, random_state=42)\n",
    "train_idx, test_idx = next(splitter.split(np.zeros(len(labels)), labels))"
   ]
  },
  {
   "cell_type": "code",
   "execution_count": 6,
   "id": "700ef05a-5cfd-407e-8ec9-d59e64b9bbb5",
   "metadata": {},
   "outputs": [],
   "source": [
    "# Create train and test datasets\n",
    "train_dataset = Subset(dataset, train_idx)\n",
    "test_dataset = Subset(dataset, test_idx)\n",
    "\n",
    "# Create DataLoaders\n",
    "batch_size = 16\n",
    "train_loader = DataLoader(train_dataset, batch_size=batch_size, shuffle=True)\n",
    "test_loader = DataLoader(test_dataset, batch_size=batch_size, shuffle=False)\n",
    "\n",
    "# Function to extract features from images\n",
    "def extract_features(loader):\n",
    "    features = []\n",
    "    labels_list = []\n",
    "   \n",
    "    with torch.no_grad():\n",
    "        for images, labels in loader:\n",
    "            # Flatten the images\n",
    "            batch_features = images.view(images.size(0), -1).numpy()\n",
    "            features.append(batch_features)\n",
    "            labels_list.append(labels.numpy())\n",
    "   \n",
    "    return np.vstack(features), np.concatenate(labels_list)"
   ]
  },
  {
   "cell_type": "code",
   "execution_count": null,
   "id": "b8a34380-8008-4087-9d28-299c587bc2bf",
   "metadata": {},
   "outputs": [
    {
     "name": "stdout",
     "output_type": "stream",
     "text": [
      "Extracting features from training set...\n"
     ]
    }
   ],
   "source": [
    "# Extract features from training and test sets\n",
    "print(\"Extracting features from training set...\")\n",
    "X_train, y_train = extract_features(train_loader)\n",
    "print(\"Extracting features from test set...\")\n",
    "X_test, y_test = extract_features(test_loader)\n",
    "\n",
    "# Scale the features\n",
    "scaler = StandardScaler()\n",
    "X_train_scaled = scaler.fit_transform(X_train)\n",
    "X_test_scaled = scaler.transform(X_test)\n",
    "\n",
    "# Initialize and train SVM model\n",
    "svm_model = SVC(kernel='rbf', random_state=42, C=1.0)\n",
    "print(\"Training SVM model...\")\n",
    "svm_model.fit(X_train_scaled, y_train)"
   ]
  },
  {
   "cell_type": "markdown",
   "id": "34f02d60-e62f-4fb8-9873-744052c6b63a",
   "metadata": {},
   "source": [
    "## Not Working"
   ]
  }
 ],
 "metadata": {
  "kernelspec": {
   "display_name": "Python 3 (ipykernel)",
   "language": "python",
   "name": "python3"
  },
  "language_info": {
   "codemirror_mode": {
    "name": "ipython",
    "version": 3
   },
   "file_extension": ".py",
   "mimetype": "text/x-python",
   "name": "python",
   "nbconvert_exporter": "python",
   "pygments_lexer": "ipython3",
   "version": "3.12.7"
  }
 },
 "nbformat": 4,
 "nbformat_minor": 5
}
