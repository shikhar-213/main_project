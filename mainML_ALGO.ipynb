{
 "cells": [
  {
   "cell_type": "code",
   "execution_count": 1,
   "id": "5d4109bc-b081-43b4-8806-3d3741c02fad",
   "metadata": {},
   "outputs": [],
   "source": [
    "import os\n",
    "import numpy as np\n",
    "import cv2\n",
    "from sklearn.model_selection import train_test_split\n",
    "from sklearn.preprocessing import LabelEncoder, StandardScaler\n",
    "from sklearn.svm import SVC\n",
    "from xgboost import XGBClassifier\n",
    "from sklearn.metrics import accuracy_score\n",
    "from tensorflow.keras.applications.resnet50 import ResNet50, preprocess_input\n",
    "from tensorflow.keras.models import Model\n",
    "from tensorflow.keras.preprocessing.image import img_to_array"
   ]
  },
  {
   "cell_type": "code",
   "execution_count": 2,
   "id": "7a373638-6a08-4a01-b0cf-6c20fcbfdcc9",
   "metadata": {},
   "outputs": [
    {
     "name": "stdout",
     "output_type": "stream",
     "text": [
      "Downloading data from https://storage.googleapis.com/tensorflow/keras-applications/resnet/resnet50_weights_tf_dim_ordering_tf_kernels_notop.h5\n",
      "\u001b[1m94765736/94765736\u001b[0m \u001b[32m━━━━━━━━━━━━━━━━━━━━\u001b[0m\u001b[37m\u001b[0m \u001b[1m42s\u001b[0m 0us/step \n"
     ]
    }
   ],
   "source": [
    "# Load pre-trained ResNet50 model for feature extraction\n",
    "base_model = ResNet50(weights='imagenet', include_top=False, pooling='avg')\n",
    "feature_extractor = Model(inputs=base_model.input, outputs=base_model.output)"
   ]
  },
  {
   "cell_type": "code",
   "execution_count": 3,
   "id": "8ba67b23-8fc8-45b2-9896-a581799bec46",
   "metadata": {},
   "outputs": [],
   "source": [
    "def load_images_from_folder(folder):\n",
    "    images = []\n",
    "    labels = []\n",
    "    class_labels = os.listdir(folder)\n",
    "    \n",
    "    for label in class_labels:\n",
    "        class_path = os.path.join(folder, label)\n",
    "        if os.path.isdir(class_path):\n",
    "            for img_name in os.listdir(class_path):\n",
    "                img_path = os.path.join(class_path, img_name)\n",
    "                img = cv2.imread(img_path)\n",
    "                if img is not None:\n",
    "                    img = cv2.resize(img, (224, 224))  # Resize to match ResNet50 input\n",
    "                    img = img_to_array(img)\n",
    "                    img = preprocess_input(img)\n",
    "                    images.append(img)\n",
    "                    labels.append(label)\n",
    "    \n",
    "    return np.array(images), np.array(labels)"
   ]
  },
  {
   "cell_type": "code",
   "execution_count": 4,
   "id": "ba055ae6-c53c-4cdf-856d-82da1f6b0b4a",
   "metadata": {},
   "outputs": [],
   "source": [
    "# Load training data\n",
    "train_path = 'PlantDoc-Dataset/train'\n",
    "X_train, y_train = load_images_from_folder(train_path)\n",
    "\n",
    "# Load testing data\n",
    "test_path = 'PlantDoc-Dataset/test'\n",
    "X_test, y_test = load_images_from_folder(test_path)\n"
   ]
  },
  {
   "cell_type": "code",
   "execution_count": 6,
   "id": "b01563e7-e0a2-490f-b8b0-197800b74c7f",
   "metadata": {},
   "outputs": [
    {
     "name": "stdout",
     "output_type": "stream",
     "text": [
      "\u001b[1m73/73\u001b[0m \u001b[32m━━━━━━━━━━━━━━━━━━━━\u001b[0m\u001b[37m\u001b[0m \u001b[1m132s\u001b[0m 2s/step\n",
      "\u001b[1m8/8\u001b[0m \u001b[32m━━━━━━━━━━━━━━━━━━━━\u001b[0m\u001b[37m\u001b[0m \u001b[1m11s\u001b[0m 1s/step\n"
     ]
    }
   ],
   "source": [
    "# Extract features\n",
    "X_train_features = feature_extractor.predict(X_train)\n",
    "X_test_features = feature_extractor.predict(X_test)\n",
    "\n",
    "# Encode labels\n",
    "label_encoder = LabelEncoder()\n",
    "y_train_encoded = label_encoder.fit_transform(y_train)\n",
    "y_test_encoded = label_encoder.transform(y_test)"
   ]
  },
  {
   "cell_type": "code",
   "execution_count": 7,
   "id": "21d5f4e4-43e8-4833-ab82-7a8260a1473a",
   "metadata": {},
   "outputs": [],
   "source": [
    "# Standardize features\n",
    "scaler = StandardScaler()\n",
    "X_train_features = scaler.fit_transform(X_train_features)\n",
    "X_test_features = scaler.transform(X_test_features)"
   ]
  },
  {
   "cell_type": "code",
   "execution_count": 8,
   "id": "e1ded658-5517-451f-ac8f-683015d0a919",
   "metadata": {},
   "outputs": [
    {
     "name": "stdout",
     "output_type": "stream",
     "text": [
      "SVM Accuracy: 0.54\n"
     ]
    }
   ],
   "source": [
    "# Train and evaluate SVM\n",
    "svm_model = SVC(kernel='linear')\n",
    "svm_model.fit(X_train_features, y_train_encoded)\n",
    "y_pred_svm = svm_model.predict(X_test_features)\n",
    "svm_accuracy = accuracy_score(y_test_encoded, y_pred_svm)\n",
    "print(f'SVM Accuracy: {svm_accuracy:.2f}')"
   ]
  },
  {
   "cell_type": "code",
   "execution_count": 9,
   "id": "7a0608f5-165e-4029-be20-b5c7ae4ad955",
   "metadata": {},
   "outputs": [
    {
     "name": "stderr",
     "output_type": "stream",
     "text": [
      "C:\\Users\\shikh\\anaconda3\\Lib\\site-packages\\xgboost\\core.py:158: UserWarning: [12:32:40] WARNING: C:\\buildkite-agent\\builds\\buildkite-windows-cpu-autoscaling-group-i-08cbc0333d8d4aae1-1\\xgboost\\xgboost-ci-windows\\src\\learner.cc:740: \n",
      "Parameters: { \"use_label_encoder\" } are not used.\n",
      "\n",
      "  warnings.warn(smsg, UserWarning)\n"
     ]
    },
    {
     "name": "stdout",
     "output_type": "stream",
     "text": [
      "XGBoost Accuracy: 0.4788\n"
     ]
    }
   ],
   "source": [
    "# Train and evaluate XGBoost\n",
    "xgb_model = XGBClassifier(use_label_encoder=False, eval_metric='mlogloss')\n",
    "xgb_model.fit(X_train_features, y_train_encoded)\n",
    "y_pred_xgb = xgb_model.predict(X_test_features)\n",
    "xgb_accuracy = accuracy_score(y_test_encoded, y_pred_xgb)\n",
    "print(f'XGBoost Accuracy: {xgb_accuracy:.4f}')"
   ]
  },
  {
   "cell_type": "markdown",
   "id": "1882c350-546e-425d-a93f-e4ef47565442",
   "metadata": {},
   "source": [
    "## Not Working"
   ]
  }
 ],
 "metadata": {
  "kernelspec": {
   "display_name": "Python 3 (ipykernel)",
   "language": "python",
   "name": "python3"
  },
  "language_info": {
   "codemirror_mode": {
    "name": "ipython",
    "version": 3
   },
   "file_extension": ".py",
   "mimetype": "text/x-python",
   "name": "python",
   "nbconvert_exporter": "python",
   "pygments_lexer": "ipython3",
   "version": "3.12.7"
  }
 },
 "nbformat": 4,
 "nbformat_minor": 5
}
